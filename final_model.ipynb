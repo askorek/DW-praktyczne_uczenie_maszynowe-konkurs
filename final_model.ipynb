{
 "cells": [
  {
   "cell_type": "code",
   "execution_count": 111,
   "metadata": {
    "id": "84YjDGwiu0MU"
   },
   "outputs": [],
   "source": [
    "import pandas as pd\n",
    "import numpy as np\n",
    "np.random.seed(0)\n",
    "\n",
    "from sklearn.metrics import mean_absolute_error\n",
    "from sklearn.dummy import DummyRegressor\n",
    "\n",
    "np.random.seed(0)\n",
    "\n",
    "import xgboost as xgb\n",
    "import lightgbm as lgb\n",
    "import catboost as ctb\n",
    "\n",
    "from sklearn.model_selection import train_test_split, KFold, StratifiedKFold, cross_val_score, cross_validate, cross_val_predict\n",
    "\n",
    "import scikitplot as skplt\n"
   ]
  },
  {
   "cell_type": "markdown",
   "metadata": {
    "id": "7y41V8Z2355l"
   },
   "source": [
    "HELPERS"
   ]
  },
  {
   "cell_type": "code",
   "execution_count": 112,
   "metadata": {
    "id": "qNhK2Zn7owhW"
   },
   "outputs": [],
   "source": [
    "def run_cv_model(model_cls, model_params, X, y, feats, cv=3, scoring='neg_mean_absolute_error',plot_learning_curve=False, plot_feature_importances=False):\n",
    "\n",
    "    scores = cross_val_score(model_cls(**model_params), X, y, cv=cv, scoring=scoring)\n",
    "    print('mean={}, std={}, scores={}'.format( np.round(np.mean(scores), 3), np.round(np.std(scores), 3), scores))\n",
    "\n",
    "    model = None\n",
    "    if plot_learning_curve:\n",
    "        model = model_cls(**model_params)\n",
    "        model.fit(X, y)\n",
    "        title='Learning Curve. {0}: {1}'.format(model_cls.__name__, model_params)\n",
    "        skplt.estimators.plot_learning_curve(model, X, y, title=title,figsize=(15, 5), cv=cv, scoring=scoring);\n",
    "    \n",
    "    if plot_feature_importances:\n",
    "        if model is None:\n",
    "            model = model_cls(**model_params)\n",
    "            model.fit(X, y)\n",
    "        title='Feature Importance. {0}: {1}'.format(model_cls.__name__, model_params)\n",
    "        skplt.estimators.plot_feature_importances(model, feature_names=feats, title=title, x_tick_rotation=90, figsize=(15, 5));    \n",
    "\n",
    "def change_pln_to_eur(row):\n",
    "  if row['price_currency'] == 'PLN':\n",
    "    return row\n",
    "  elif row['price_currency'] == 'EUR':\n",
    "    row['price_value'] = row['price_value']/4\n",
    "    return row\n",
    "  else:\n",
    "    raise EnvironmentError"
   ]
  },
  {
   "cell_type": "markdown",
   "metadata": {
    "id": "P70FFOZF38e9"
   },
   "source": [
    "START"
   ]
  },
  {
   "cell_type": "code",
   "execution_count": 113,
   "metadata": {
    "id": "D9_Ho1Nku-14"
   },
   "outputs": [],
   "source": [
    "all_data = pd.read_hdf('./../output/final_feats.h5')"
   ]
  },
  {
   "cell_type": "code",
   "execution_count": 114,
   "metadata": {},
   "outputs": [],
   "source": [
    "alll = set(all_data.columns)\n",
    "grog =set(drogie_data.columns)"
   ]
  },
  {
   "cell_type": "code",
   "execution_count": 115,
   "metadata": {},
   "outputs": [
    {
     "name": "stdout",
     "output_type": "stream",
     "text": [
      "created_at\n",
      "price_details\n",
      "price_value\n",
      "param_engine-code\n",
      "param_vin\n",
      "param_kod-silnika\n",
      "param_opłata-początkowa\n",
      "param_monthly-payment-value\n",
      "log_price\n",
      "my_last\n",
      "my_model_age\n"
     ]
    }
   ],
   "source": [
    "for column in all_data.columns.values:\n",
    "    if (all_data[column] == drogie_data[column]).sum() != 160616:\n",
    "        print(column)\n",
    "    "
   ]
  },
  {
   "cell_type": "code",
   "execution_count": 116,
   "metadata": {},
   "outputs": [],
   "source": [
    "all_data = pd.read_hdf('drogie.h5')"
   ]
  },
  {
   "cell_type": "markdown",
   "metadata": {
    "id": "aXI-xW-d3xbC"
   },
   "source": [
    "FEATURE ENGINEERING"
   ]
  },
  {
   "cell_type": "code",
   "execution_count": 117,
   "metadata": {
    "id": "57x5gz_ArI5Y"
   },
   "outputs": [],
   "source": [
    "plus = 10000\n",
    "def price_plus(row,plus):\n",
    "  if row[\"price_value\"] is not None:\n",
    "    return np.log(row[\"price_value\"] + plus)\n",
    "all_data[\"log_price\"] = all_data.apply(price_plus,plus=plus, axis=1)"
   ]
  },
  {
   "cell_type": "code",
   "execution_count": 118,
   "metadata": {
    "id": "QqyJopxS8quP"
   },
   "outputs": [],
   "source": [
    "moc_plusy = 0\n",
    "def moc_plus(row,plus):\n",
    "  if row[\"my_moc\"] != -1:\n",
    "    return np.log(row[\"my_moc\"] + moc_plusy)\n",
    "all_data[\"log_moc\"] = all_data.apply(moc_plus,plus=moc_plusy, axis=1)\n"
   ]
  },
  {
   "cell_type": "code",
   "execution_count": 119,
   "metadata": {
    "id": "wZw5FmVQED1q"
   },
   "outputs": [],
   "source": [
    "def moc_na_pojem(row):\n",
    "  if (row[\"my_moc\"] != -1) and (row[\"my_pojemnosc\"] != -1):\n",
    "    return row[\"my_moc\"]/row[\"my_pojemnosc\"]\n",
    "  else:\n",
    "    return -1\n",
    "\n",
    "# all_data[\"moc_div_pojem\"] = all_data.apply(moc_na_pojem, axis=1)"
   ]
  },
  {
   "cell_type": "markdown",
   "metadata": {
    "id": "PoDxwzm64BSd"
   },
   "source": [
    "FEATURES ENGINEERING"
   ]
  },
  {
   "cell_type": "code",
   "execution_count": 120,
   "metadata": {
    "id": "3heBQsFBVAXf"
   },
   "outputs": [],
   "source": [
    "dum_marka = pd.get_dummies(all_data[\"my_marka\"], prefix=\"marka_\")\n",
    "all_data = pd.concat([all_data, dum_marka], axis=1)\n",
    "del all_data[\"my_marka\"]"
   ]
  },
  {
   "cell_type": "code",
   "execution_count": 121,
   "metadata": {
    "id": "eS8A-qr3eVOZ"
   },
   "outputs": [],
   "source": [
    "dum_skrzynia = pd.get_dummies(all_data[\"my_skrzynia\"], prefix=\"skrzynia_\")\n",
    "all_data = pd.concat([all_data, dum_skrzynia], axis=1)\n",
    "del all_data[\"my_skrzynia\"]"
   ]
  },
  {
   "cell_type": "code",
   "execution_count": 122,
   "metadata": {
    "id": "NEjtKD-afiXV"
   },
   "outputs": [],
   "source": [
    "dum_naped = pd.get_dummies(all_data[\"my_naped\"], prefix=\"naped_\")\n",
    "all_data = pd.concat([all_data, dum_naped], axis=1)\n",
    "del all_data[\"my_naped\"]"
   ]
  },
  {
   "cell_type": "code",
   "execution_count": 123,
   "metadata": {
    "id": "SUvontMj05kY"
   },
   "outputs": [],
   "source": [
    "feats = all_data.select_dtypes(include=[np.number, np.bool]).columns\n",
    "\n",
    "feats = feats[ feats != 'car_id' ].values\n",
    "feats = feats[ feats != 'price_value' ]\n",
    "feats = feats[ feats != 'log_price' ]\n",
    "\n",
    "#feats = feats[feats != 'my_model'] \n",
    "\n",
    "assert len(feats) == len(set(feats))\n",
    "assert 'car_id' not in feats\n",
    "assert 'price_value' not in feats\n",
    "assert 'log_price' not in feats"
   ]
  },
  {
   "cell_type": "markdown",
   "metadata": {
    "id": "uLtj7gER4Jmy"
   },
   "source": [
    "TRAIN / TEST SPLIT"
   ]
  },
  {
   "cell_type": "code",
   "execution_count": 124,
   "metadata": {
    "id": "VXn-13_O4aaM"
   },
   "outputs": [],
   "source": [
    "train_all = all_data[~all_data.price_value.isnull()]\n",
    "test = all_data[all_data.price_value.isnull()]\n",
    "\n",
    "X_train_all = train_all[ feats ].values\n",
    "y_train_all = train_all['log_price'].values\n",
    "\n",
    "X_train, X_valid, y_train, y_valid = train_test_split(X_train_all, y_train_all, \n",
    "                                                      test_size=0.3, \n",
    "                                                      random_state=0, \n",
    "                                                      shuffle=True)"
   ]
  },
  {
   "cell_type": "markdown",
   "metadata": {
    "id": "AIgTx76RDeod"
   },
   "source": [
    "TRAIN AND VALIDATE"
   ]
  },
  {
   "cell_type": "code",
   "execution_count": 125,
   "metadata": {
    "id": "sC4V0M4qF-aW"
   },
   "outputs": [],
   "source": [
    "# first small model for important features selection and plots\n",
    "model_cls = ctb.CatBoostRegressor\n",
    "model_params = {\"n_estimators\":500, \n",
    "                \"depth\":10, \n",
    "                \"random_state\":0, \n",
    "                \"verbose\":False,\n",
    "                }"
   ]
  },
  {
   "cell_type": "code",
   "execution_count": 126,
   "metadata": {
    "colab": {
     "base_uri": "https://localhost:8080/"
    },
    "id": "Aq0aprLPDh1V",
    "outputId": "c2c6e58f-83d0-4a32-b0b4-90dd72dfe580"
   },
   "outputs": [
    {
     "name": "stdout",
     "output_type": "stream",
     "text": [
      "Score for validation: 5780.339867095051\n"
     ]
    }
   ],
   "source": [
    "model = model_cls(**model_params)\n",
    "model.fit(X_train, y_train)\n",
    "\n",
    "## predict\n",
    "y_pred = model.predict(X_valid)\n",
    "\n",
    "global_min = y_train.min()\n",
    "y_pred[ y_pred < global_min] = global_min\n",
    "\n",
    "y_pred_exp = np.exp(y_pred) - plus\n",
    "y_valid_exp = np.exp(y_valid) - plus\n",
    "mae = mean_absolute_error(y_valid_exp, y_pred_exp)\n",
    "\n",
    "print(\"Score for validation: {}\".format(mae))"
   ]
  },
  {
   "cell_type": "markdown",
   "metadata": {
    "id": "lgnT9KydDayu"
   },
   "source": [
    "TRAIN CV"
   ]
  },
  {
   "cell_type": "code",
   "execution_count": 127,
   "metadata": {
    "id": "lFqQcoiFt0yN"
   },
   "outputs": [
    {
     "name": "stdout",
     "output_type": "stream",
     "text": [
      "mean=-0.097, std=0.0, scores=[-0.09759407 -0.09690868 -0.09694923]\n"
     ]
    },
    {
     "data": {
      "image/png": "[encoded data removed]",
      "text/plain": [
       "<Figure size 1080x360 with 1 Axes>"
      ]
     },
     "metadata": {
      "needs_background": "light"
     },
     "output_type": "display_data"
    },
    {
     "data": {
      "image/png": "[encoded data removed]",
      "text/plain": [
       "<Figure size 1080x360 with 1 Axes>"
      ]
     },
     "metadata": {
      "needs_background": "light"
     },
     "output_type": "display_data"
    }
   ],
   "source": [
    "run_cv_model(model_cls, model_params, X_train, y_train, feats, cv=3, scoring='neg_mean_absolute_error', plot_learning_curve=True, plot_feature_importances=True)"
   ]
  },
  {
   "cell_type": "markdown",
   "metadata": {},
   "source": [
    "GET RID OF UNIMPORTANT FEs "
   ]
  },
  {
   "cell_type": "code",
   "execution_count": 128,
   "metadata": {
    "id": "50RbvoPSpZKz"
   },
   "outputs": [],
   "source": [
    "aa = model.feature_importances_\n",
    "aa.sort()\n",
    "assert len(aa) == len(feats)\n",
    "cutoff = aa[120]\n",
    "important_features = []\n",
    "for i, importance in enumerate(model.feature_importances_):\n",
    "  if importance > cutoff:\n",
    "    important_features.append(feats[i])\n",
    "feats = important_features"
   ]
  },
  {
   "cell_type": "markdown",
   "metadata": {},
   "source": [
    "TRAIN AND PREDICT"
   ]
  },
  {
   "cell_type": "code",
   "execution_count": 129,
   "metadata": {},
   "outputs": [],
   "source": [
    "# final big model\n",
    "model_cls = ctb.CatBoostRegressor\n",
    "model_params = {\"n_estimators\":50000, \n",
    "                \"depth\":11, \n",
    "                \"random_state\":0, \n",
    "                \"verbose\":250,\n",
    "                }"
   ]
  },
  {
   "cell_type": "code",
   "execution_count": 130,
   "metadata": {},
   "outputs": [],
   "source": [
    "train_all = all_data[~all_data.price_value.isnull()]\n",
    "test = all_data[all_data.price_value.isnull()]\n",
    "\n",
    "X_train_all = train_all[ feats ].values\n",
    "y_train_all = train_all['log_price'].values\n",
    "\n",
    "X_train, X_valid, y_train, y_valid = train_test_split(X_train_all, y_train_all, \n",
    "                                                      test_size=0.3, \n",
    "                                                      random_state=0, \n",
    "                                                      shuffle=True)"
   ]
  },
  {
   "cell_type": "code",
   "execution_count": null,
   "metadata": {
    "colab": {
     "base_uri": "https://localhost:8080/"
    },
    "id": "XTyFCXz2HBnr",
    "outputId": "ce62f173-ea62-4b92-a962-857525822124"
   },
   "outputs": [
    {
     "name": "stdout",
     "output_type": "stream",
     "text": [
      "Learning rate set to 0.004582\n",
      "0:\tlearn: 0.7433756\ttotal: 50.4ms\tremaining: 42m 1s\n",
      "250:\tlearn: 0.3335665\ttotal: 12.6s\tremaining: 41m 38s\n",
      "500:\tlearn: 0.2238716\ttotal: 25.1s\tremaining: 41m 17s\n"
     ]
    }
   ],
   "source": [
    "model = model_cls(**model_params)\n",
    "model.fit(X_train_all, y_train_all)\n",
    "\n",
    "train = all_data[all_data[\"price_value\"].isnull()]\n",
    "## predict\n",
    "X_test = test[feats].values\n",
    "y_pred = model.predict(X_test)\n",
    "\n",
    "global_min = train.log_price.min()\n",
    "y_pred[ y_pred < global_min] = global_min\n",
    "\n",
    "test['price_value'] = np.exp(y_pred) - plus\n",
    "\n",
    "test = test.apply(change_pln_to_eur, axis=1)\n",
    "\n",
    "#prepare to submit\n",
    "test[ ['car_id', 'price_value'] ].to_csv('./../output/final_result.csv', index=False)"
   ]
  }
 ],
 "metadata": {
  "colab": {
   "collapsed_sections": [],
   "name": "final model.ipynb",
   "provenance": []
  },
  "kernelspec": {
   "display_name": "Python 3",
   "language": "python",
   "name": "python3"
  },
  "language_info": {
   "codemirror_mode": {
    "name": "ipython",
    "version": 3
   },
   "file_extension": ".py",
   "mimetype": "text/x-python",
   "name": "python",
   "nbconvert_exporter": "python",
   "pygments_lexer": "ipython3",
   "version": "3.7.6"
  }
 },
 "nbformat": 4,
 "nbformat_minor": 1
}
