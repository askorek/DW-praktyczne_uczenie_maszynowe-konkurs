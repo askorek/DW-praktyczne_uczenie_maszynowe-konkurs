{
 "cells": [
  {
   "cell_type": "code",
   "execution_count": 1,
   "metadata": {
    "colab": {
     "base_uri": "https://localhost:8080/"
    },
    "id": "OSAIS9Stt8AB",
    "outputId": "91caf550-3c98-4d2d-868a-91b1a9bab8b8"
   },
   "outputs": [],
   "source": [
    "import pandas as pd\n",
    "import numpy as np\n",
    "np.random.seed(0)"
   ]
  },
  {
   "cell_type": "code",
   "execution_count": 2,
   "metadata": {
    "id": "aZFj0zpIuM8p"
   },
   "outputs": [],
   "source": [
    "# get data\n",
    "train = pd.read_hdf('./../input/train.car_price.h5')\n",
    "test = pd.read_hdf('./../input/test.car_price.h5')"
   ]
  },
  {
   "cell_type": "code",
   "execution_count": 3,
   "metadata": {
    "id": "i0wS-D8cwfWX"
   },
   "outputs": [],
   "source": [
    "def change_eur_to_pln(row):\n",
    "  if row['price_currency'] == 'PLN':\n",
    "    return row\n",
    "  elif row['price_currency'] == 'EUR':\n",
    "    row['price_value'] = row['price_value']*4\n",
    "    return row\n",
    "  else:\n",
    "    raise EnvironmentError\n",
    "\n",
    "train = train.apply(change_eur_to_pln, axis=1)"
   ]
  },
  {
   "cell_type": "code",
   "execution_count": 4,
   "metadata": {
    "id": "sQH-QcQrwm3X"
   },
   "outputs": [],
   "source": [
    "train['log_price'] = np.log(train[\"price_value\"])\n",
    "# we will change it into log(price + 10000) later"
   ]
  },
  {
   "cell_type": "code",
   "execution_count": 5,
   "metadata": {
    "id": "G-qKlSqhvMiL"
   },
   "outputs": [],
   "source": [
    "all_data = pd.concat([train, test])\n",
    "del train\n",
    "del test"
   ]
  },
  {
   "cell_type": "markdown",
   "metadata": {
    "id": "IrJhFB0V6bVh"
   },
   "source": [
    "start here"
   ]
  },
  {
   "cell_type": "code",
   "execution_count": 6,
   "metadata": {
    "id": "cMK7hVPC_VBV"
   },
   "outputs": [],
   "source": [
    "# podobne funkcje będzie powtarzać się wiele razy - łączymy dane z dwóch parametrów\n",
    "def find_marka(row):\n",
    "  if row[\"param_marka-pojazdu\"] is not None:\n",
    "    return row[\"param_marka-pojazdu\"]\n",
    "  elif row[\"param_make\"] is not None:\n",
    "    return row[\"param_make\"]\n",
    "  else:\n",
    "    return -1\n",
    "\n",
    "all_data[\"my_marka\"] = all_data.apply(find_marka, axis=1)\n"
   ]
  },
  {
   "cell_type": "code",
   "execution_count": 7,
   "metadata": {},
   "outputs": [],
   "source": [
    "# to jest marka, ale tylko dla tych co markę mają określoną w parametrze\n",
    "# o polskiej nazwie. Zostawiłem kiedyś przez przypadek, ale o dziwo poprawia \n",
    "# wynik więc nie wywalam :)\n",
    "\n",
    "all_data[\"my_marka_factor\"] = all_data[\"param_marka-pojazdu\"].factorize()[0]"
   ]
  },
  {
   "cell_type": "code",
   "execution_count": 8,
   "metadata": {
    "id": "DDBl5OOiBvk-"
   },
   "outputs": [],
   "source": [
    "# to samo co dla marki robimy dla modelu\n",
    "def find_model(row):\n",
    "  if row[\"param_model-pojazdu\"] is not None:\n",
    "    return row[\"param_model-pojazdu\"]\n",
    "  elif row[\"param_model\"] is not None:\n",
    "    return row[\"param_model\"]\n",
    "  else:\n",
    "    return -1\n",
    "\n",
    "all_data[\"my_model\"] = all_data.apply(find_model, axis=1)"
   ]
  },
  {
   "cell_type": "code",
   "execution_count": 9,
   "metadata": {
    "id": "UfkKRsb68sRd"
   },
   "outputs": [],
   "source": [
    "# sprawdzam rok, bo auta które nie mają żadnych danych jako jedyne mają pusty rok\n",
    "# dla takich aut można wyciągnąć markę i model z breadcrumb\n",
    "def get_marka_for_empty(row):\n",
    "  if (row[\"param_year\"] == None) and (row[\"param_rok-produkcji\"] == None): \n",
    "    marka = row[\"breadcrumb\"][1]\n",
    "    return marka\n",
    "  else:\n",
    "    return row[\"my_marka\"]\n",
    "\n",
    "def get_model_for_empty(row):\n",
    "  if (row[\"param_year\"] == None) and (row[\"param_rok-produkcji\"] == None):\n",
    "    marka = row[\"breadcrumb\"][1]\n",
    "    model = row[\"breadcrumb\"][2].replace(marka+'-',\"\") #ostatnia kolumna to np 'Mercedes-AMG', więc wycinam 'Mercedes-'\n",
    "    return model\n",
    "  else:\n",
    "    return row[\"my_model\"]\n",
    "\n",
    "all_data[\"my_marka\"] = all_data.apply(get_marka_for_empty, axis=1)\n",
    "all_data[\"my_model\"] = all_data.apply(get_model_for_empty, axis=1)\n",
    "\n",
    "del all_data[\"param_marka-pojazdu\"]\n",
    "del all_data[\"param_make\"]\n",
    "del all_data[\"param_model-pojazdu\"]\n",
    "del all_data[\"param_model\"]\n",
    "del all_data[\"breadcrumb\"]"
   ]
  },
  {
   "cell_type": "code",
   "execution_count": 10,
   "metadata": {},
   "outputs": [],
   "source": [
    "# szukam \"ekskluzywnych\" marek - tych z najwyższą średnią/środkową ceną\n",
    "aa = all_data.groupby([\"my_marka\"])[\"price_value\"].mean()\n",
    "aa = aa.sort_values(ascending=False,)\n",
    "\n",
    "list_drogie = aa[:10].index  # bierzemy pierwsze 10 najdroższych\n"
   ]
  },
  {
   "cell_type": "code",
   "execution_count": 11,
   "metadata": {},
   "outputs": [],
   "source": [
    "def find_drogie_marki(row, list_drogie):\n",
    "  if row[\"my_marka\"] in list_drogie:\n",
    "    return True\n",
    "  return False\n",
    "\n",
    "all_data[\"my_drogie\"] = all_data.apply(find_drogie_marki, list_drogie=list_drogie, axis=1)\n",
    "\n",
    "all_data[\"my_marka\"] = all_data[\"my_marka\"].factorize()[0]\n",
    "all_data[\"my_model\"] = all_data[\"my_model\"].factorize()[0]"
   ]
  },
  {
   "cell_type": "markdown",
   "metadata": {
    "id": "F3OL2N48yUJ7"
   },
   "source": [
    "lecimy nowe"
   ]
  },
  {
   "cell_type": "code",
   "execution_count": 13,
   "metadata": {
    "id": "3nl5xDOayTEO"
   },
   "outputs": [],
   "source": [
    "del all_data[\"param_oferta-od\"] # to jest chyba to samo co seller_type\n",
    "\n",
    "all_data[\"my_handlarz\"] = all_data[\"seller_type\"].map(lambda x: True if x == \"Dealer\" else False)\n",
    "del all_data[\"seller_type\"]"
   ]
  },
  {
   "cell_type": "code",
   "execution_count": 14,
   "metadata": {
    "id": "Jbgjgl_mzrdV"
   },
   "outputs": [],
   "source": [
    "def find_uszkodzone(row):\n",
    "  if (row[\"param_uszkodzony\"]) == \"Tak\" or (row[\"param_damaged\"] == \"Tak\"):\n",
    "    return True\n",
    "  else:\n",
    "    return False\n",
    "\n",
    "all_data[\"my_uszkodzony\"] = all_data.apply(find_uszkodzone, axis=1)\n",
    "\n",
    "del all_data[\"param_uszkodzony\"]\n",
    "del all_data[\"param_damaged\"]"
   ]
  },
  {
   "cell_type": "code",
   "execution_count": 15,
   "metadata": {
    "id": "zOhbeYov1DOX"
   },
   "outputs": [],
   "source": [
    "def find_bezwypadkowy(row):\n",
    "  if (row[\"param_no-accident\"]) == \"Tak\" or (row[\"param_bezwypadkowy\"] == \"Tak\"):\n",
    "    return True\n",
    "  else:\n",
    "    return False\n",
    "\n",
    "all_data[\"my_bezwypadkowy\"] = all_data.apply(find_bezwypadkowy, axis=1)\n",
    "\n",
    "del all_data[\"param_no-accident\"]\n",
    "del all_data[\"param_bezwypadkowy\"]"
   ]
  },
  {
   "cell_type": "code",
   "execution_count": 16,
   "metadata": {
    "id": "h7_YxNzu6o51"
   },
   "outputs": [],
   "source": [
    "# parametr określający, czy dany wiersz ma parametry angielskie czy polskie \n",
    "# (np czy stan jest w param_no-accident czy param_bezwypadkowy)\n",
    "all_data[\"my_second_zbior\"] = all_data[\"param_mileage\"].map(lambda x: True if x is not None else False)"
   ]
  },
  {
   "cell_type": "code",
   "execution_count": 17,
   "metadata": {
    "id": "g1gavgJ23K5w"
   },
   "outputs": [],
   "source": [
    "del all_data[\"param_kategoria\"] #wszystkie osobowe to usuwam"
   ]
  },
  {
   "cell_type": "code",
   "execution_count": 18,
   "metadata": {
    "id": "K70T4BT7345_"
   },
   "outputs": [],
   "source": [
    "def find_rok_produkcji(row):\n",
    "  if row[\"param_rok-produkcji\"] is not None:\n",
    "    return int(row[\"param_rok-produkcji\"])\n",
    "  elif row[\"param_year\"] is not None:\n",
    "    return int(row[\"param_year\"])\n",
    "  else:\n",
    "    return -1\n",
    "\n",
    "all_data[\"my_rok\"] = all_data.apply(find_rok_produkcji, axis=1)\n",
    "\n",
    "del all_data[\"param_rok-produkcji\"]\n",
    "del all_data[\"param_year\"]"
   ]
  },
  {
   "cell_type": "code",
   "execution_count": 19,
   "metadata": {
    "id": "zfYSg1X2ixD3"
   },
   "outputs": [],
   "source": [
    "# wyciąga z adresu sprzedawcy województwo\n",
    "# nie jest to w 100% skuteczne ale trochę daje. Jednak nie na tyle, żebym się jakoś bardziej skupiał\n",
    "\n",
    "def find_seller_wojewodztwo(row):\n",
    "  wojewodztwa = ['Wielkopolskie','Mazowieckie','Śląskie','Małopolskie','Dolnośląskie','Łódzkie','Kujawsko-pomorskie','Lubelskie','Pomorskie','Podkarpackie','Świętokrzyskie','Zachodniopomorskie','Warmińsko-mazurskie','Lubuskie','Śródmieście','Opolskie','Podlaskie']\n",
    "  if row is not None:\n",
    "    for jedno in wojewodztwa:\n",
    "      if jedno in row:\n",
    "        return jedno\n",
    "      elif \"Warszawa\" in row:\n",
    "        return 'Mazowieckie'\n",
    "  return -1\n",
    "\n",
    "\n",
    "all_data[\"my_woj\"] = all_data[\"seller_address\"].map(find_seller_wojewodztwo)  \n",
    "all_data[\"my_woj\"] = all_data[\"my_woj\"].factorize()[0]\n",
    "\n",
    "del all_data[\"seller_address\"]"
   ]
  },
  {
   "cell_type": "code",
   "execution_count": 20,
   "metadata": {
    "id": "1OSzsnmCA97H"
   },
   "outputs": [],
   "source": [
    "# tutaj zliczamy sobie wszystkie feature_XXX które są prawdziwe (suma)\n",
    "# uwaga! długo się liczy!\n",
    "\n",
    "all_features = all_data.columns.values\n",
    "all_features = [feat for feat in all_features if \"feature_\" in feat]\n",
    "\n",
    "def count_features(row, all_features):\n",
    "  feats_count = 0\n",
    "  for feat in all_features:\n",
    "    if row[feat] is True:\n",
    "      feats_count += 1\n",
    "  return feats_count\n",
    "\n",
    "all_data[\"my_fe_count\"] = all_data.apply(count_features, all_features=all_features, axis=1)"
   ]
  },
  {
   "cell_type": "code",
   "execution_count": 21,
   "metadata": {
    "id": "n9EClOPu7EQ6"
   },
   "outputs": [],
   "source": [
    "def find_przebieg(row):\n",
    "  if row[\"param_przebieg\"] is not None:\n",
    "    return row[\"param_przebieg\"]\n",
    "  elif row[\"param_mileage\"] is not None:\n",
    "    return row[\"param_mileage\"]\n",
    "  else:\n",
    "    return -1\n",
    "\n",
    "all_data[\"my_przebieg\"] = all_data.apply(find_przebieg, axis=1)\n",
    "\n",
    "del all_data[\"param_przebieg\"]\n",
    "del all_data[\"param_mileage\"]"
   ]
  },
  {
   "cell_type": "code",
   "execution_count": 22,
   "metadata": {
    "id": "9Hi8QeP37j6_"
   },
   "outputs": [],
   "source": [
    "# uznałem że przebieg powyżej 2 milionów to coś nie tak\n",
    "def przebieg_to_int(row):\n",
    "  try:\n",
    "    przebieg = int (row.replace(\" km\",\"\").replace(\" \", \"\") )\n",
    "  except:\n",
    "    przebieg = -1\n",
    "\n",
    "  if przebieg > 2_000_000:\n",
    "    przebieg = 2_000_000\n",
    "  return przebieg\n",
    "\n",
    "all_data[\"my_przebieg\"] = all_data[\"my_przebieg\"].map(przebieg_to_int)"
   ]
  },
  {
   "cell_type": "code",
   "execution_count": 23,
   "metadata": {
    "id": "gbSuEQvC74jL"
   },
   "outputs": [],
   "source": [
    "def log_przebieg(row):\n",
    "  if row == 0:\n",
    "    return 0\n",
    "  elif row == -1:\n",
    "    return -1\n",
    "  else:\n",
    "    return np.log(row)\n",
    "\n",
    "all_data[\"my_log_przebieg\"] = all_data[\"my_przebieg\"].map(log_przebieg)"
   ]
  },
  {
   "cell_type": "code",
   "execution_count": 24,
   "metadata": {
    "id": "oD2kSM1CDCKj"
   },
   "outputs": [],
   "source": [
    "# nie wiem czy te 3 zmienne określają to samo, ale zakładam że tak\n",
    "def find_vat(row):\n",
    "  if (row[\"param_faktura-vat\"] == \"Tak\") or (row[\"param_vat-discount\"] == \"Tak\")\\\n",
    "      or (row[\"param_vat-free\"] == \"Tak\"):\n",
    "    return True\n",
    "  else:\n",
    "    return False\n",
    "\n",
    "all_data[\"my_vat1\"] = all_data.apply(find_vat, axis=1)\n",
    "\n",
    "del all_data[\"param_faktura-vat\"]\n",
    "del all_data[\"param_vat-free\"]\n",
    "del all_data[\"param_vat-discount\"]"
   ]
  },
  {
   "cell_type": "code",
   "execution_count": 25,
   "metadata": {
    "id": "0M29Hva1DrWC"
   },
   "outputs": [],
   "source": [
    "all_data[\"my_vat_marza\"] = all_data[\"param_vat-marża\"].map(lambda x: True if x == \"Tak\" else False)\n",
    "del all_data[\"param_vat-marża\"]"
   ]
  },
  {
   "cell_type": "code",
   "execution_count": 26,
   "metadata": {
    "id": "bbcq6R9XEb7B"
   },
   "outputs": [],
   "source": [
    "def find_pojemnosc(row):\n",
    "  if row[\"param_pojemność-skokowa\"] is not None:\n",
    "    return row[\"param_pojemność-skokowa\"]\n",
    "  elif row[\"param_engine-capacity\"] is not None:\n",
    "    return row[\"param_engine-capacity\"]\n",
    "  else:\n",
    "    return -1\n",
    "\n",
    "all_data[\"my_pojemnosc\"] = all_data.apply(find_pojemnosc, axis=1)\n",
    "\n",
    "del all_data[\"param_pojemność-skokowa\"]\n",
    "del all_data[\"param_engine-capacity\"]"
   ]
  },
  {
   "cell_type": "code",
   "execution_count": 27,
   "metadata": {
    "id": "1RQ8a0isE-4Q"
   },
   "outputs": [],
   "source": [
    "# w pojemnościach dużo danych bez sensu, jak jest powyżej 10 litrów to dzielę to przez 10 (dwa razy), \n",
    "# ale tylko jeśli zero na końcu\n",
    "def pojemnosc_to_int(row):\n",
    "  try:\n",
    "    pojemnosc = int (row.replace(\" cm3\",\"\").replace(\" \", \"\") )\n",
    "  except:\n",
    "    pojemnosc = -1\n",
    "  \n",
    "  if pojemnosc > 10000 and pojemnosc%10 ==0:\n",
    "    pojemnosc = pojemnosc/10\n",
    "\n",
    "  if pojemnosc > 10000 and pojemnosc%10 ==0:\n",
    "    pojemnosc = pojemnosc/10\n",
    "\n",
    "  if pojemnosc > 10000:\n",
    "    pojemnosc = -1\n",
    "\n",
    "  return pojemnosc\n",
    "\n",
    "all_data[\"my_pojemnosc\"] = all_data[\"my_pojemnosc\"].map(pojemnosc_to_int)"
   ]
  },
  {
   "cell_type": "code",
   "execution_count": 28,
   "metadata": {
    "id": "QWbRK3LGOP1_"
   },
   "outputs": [],
   "source": [
    "def rejestracja_polska(row):\n",
    "  if (row[\"param_registered-in-poland\"] == \"Tak\") or (row[\"param_zarejestrowany-w-polsce\"] == \"Tak\"):\n",
    "    return True\n",
    "  else:\n",
    "    return False\n",
    "\n",
    "all_data[\"my_rejestracja_polska\"] = all_data.apply(rejestracja_polska, axis=1)\n",
    "\n",
    "del all_data[\"param_registered-in-poland\"]\n",
    "del all_data[\"param_zarejestrowany-w-polsce\"]"
   ]
  },
  {
   "cell_type": "code",
   "execution_count": 29,
   "metadata": {
    "id": "BskJhPz_GaxK"
   },
   "outputs": [],
   "source": [
    "all_data[\"my_anglik\"] = all_data[\"param_kierownica-po-prawej-(anglik)\"].map(lambda x: True if x == \"Tak\" else False)\n",
    "del all_data[\"param_kierownica-po-prawej-(anglik)\"]"
   ]
  },
  {
   "cell_type": "code",
   "execution_count": 30,
   "metadata": {
    "id": "2sMnVpQ1QgxD"
   },
   "outputs": [],
   "source": [
    "def find_kolor(row):\n",
    "  if row[\"param_kolor\"] is not None:\n",
    "    return row[\"param_kolor\"]\n",
    "  elif row[\"param_color\"] is not None:\n",
    "    return row[\"param_color\"]\n",
    "  else:\n",
    "    return -1\n",
    "\n",
    "all_data[\"my_color\"] = all_data.apply(find_kolor, axis=1)\n",
    "\n",
    "del all_data[\"param_kolor\"]\n",
    "del all_data[\"param_color\"]\n",
    "\n",
    "all_data[\"my_color\"] = all_data[\"my_color\"].factorize()[0]"
   ]
  },
  {
   "cell_type": "code",
   "execution_count": 31,
   "metadata": {
    "id": "6at44wJTRrJs"
   },
   "outputs": [],
   "source": [
    "def find_kraj(row):\n",
    "  if row[\"param_kraj-pochodzenia\"] is not None:\n",
    "    return row[\"param_kraj-pochodzenia\"]\n",
    "  elif row[\"param_country-of-origin\"] is not None:\n",
    "    return row[\"param_country-of-origin\"]\n",
    "  else:\n",
    "    return -1\n",
    "\n",
    "all_data[\"my_kraj\"] = all_data.apply(find_kraj, axis=1)\n",
    "\n",
    "del all_data[\"param_kraj-pochodzenia\"]\n",
    "del all_data[\"param_country-of-origin\"]\n",
    "\n",
    "all_data[\"my_kraj\"] = all_data[\"my_kraj\"].factorize()[0]"
   ]
  },
  {
   "cell_type": "code",
   "execution_count": 32,
   "metadata": {
    "id": "XYZc2zEAS9tp"
   },
   "outputs": [],
   "source": [
    "def find_moc(row):\n",
    "  if row[\"param_moc\"] is not None:\n",
    "    return row[\"param_moc\"]\n",
    "  elif row[\"param_engine-power\"] is not None:\n",
    "    return row[\"param_engine-power\"]\n",
    "  else:\n",
    "    return -1\n",
    "\n",
    "all_data[\"my_moc\"] = all_data.apply(find_moc, axis=1)\n",
    "\n",
    "del all_data[\"param_moc\"]\n",
    "del all_data[\"param_engine-power\"]"
   ]
  },
  {
   "cell_type": "code",
   "execution_count": 33,
   "metadata": {
    "id": "hpy81yopTTty"
   },
   "outputs": [],
   "source": [
    "# przy mocy podobnie jak przy pojemności, komuś się pewnie za dużo zer powpisywało\n",
    "def pmoc_to_int(row):\n",
    "  try:\n",
    "    moc = int (row.replace(\" KM\",\"\").replace(\" \", \"\") )\n",
    "  except:\n",
    "    moc = -1\n",
    "\n",
    "  if moc > 1000 and moc%10 ==0:\n",
    "    moc = moc/10\n",
    "\n",
    "  if moc > 1000 and moc%10 ==0:\n",
    "    moc = moc/10\n",
    "\n",
    "  if moc > 1000:\n",
    "    moc = -1\n",
    "\n",
    "  return moc\n",
    "\n",
    "all_data[\"my_moc\"] = all_data[\"my_moc\"].map(pmoc_to_int)"
   ]
  },
  {
   "cell_type": "code",
   "execution_count": 34,
   "metadata": {
    "id": "AUXO2WgvXUrM"
   },
   "outputs": [],
   "source": [
    "def find_skrzynia(row):\n",
    "  if row[\"param_skrzynia-biegów\"] is not None:\n",
    "    return row[\"param_skrzynia-biegów\"]\n",
    "  elif row['param_gearbox'] is not None:\n",
    "    return row['param_gearbox']\n",
    "  else:\n",
    "    return -1\n",
    "\n",
    "all_data[\"my_skrzynia\"] = all_data.apply(find_skrzynia, axis=1)\n",
    "\n",
    "del all_data[\"param_skrzynia-biegów\"]\n",
    "del all_data[\"param_gearbox\"]\n",
    "\n",
    "# skrzynia na tyle dobrze poprawiła, że postanowiłem jeszcze połączyć wszystkie rodzaje automatów\n",
    "all_data[\"my_automat_skrzynia\"] = all_data[\"my_skrzynia\"].map(lambda x: False if x == \"Manualna\" else True)\n",
    "all_data[\"my_skrzynia\"] = all_data[\"my_skrzynia\"].factorize()[0]"
   ]
  },
  {
   "cell_type": "code",
   "execution_count": 35,
   "metadata": {
    "id": "RZPhdbjGx9rr"
   },
   "outputs": [],
   "source": [
    "def find_paliwo(row):\n",
    "  if row[\"param_rodzaj-paliwa\"] is not None:\n",
    "    return row[\"param_rodzaj-paliwa\"]\n",
    "  elif row['param_fuel-type'] is not None:\n",
    "    return row['param_fuel-type']\n",
    "  else:\n",
    "    return -1\n",
    "\n",
    "all_data[\"my_paliwo\"] = all_data.apply(find_paliwo, axis=1)\n",
    "\n",
    "del all_data[\"param_rodzaj-paliwa\"]\n",
    "del all_data[\"param_fuel-type\"]\n",
    "\n",
    "all_data[\"my_paliwo\"] = all_data[\"my_paliwo\"].factorize()[0]"
   ]
  },
  {
   "cell_type": "code",
   "execution_count": 36,
   "metadata": {
    "id": "e5gqxdndzAkT"
   },
   "outputs": [],
   "source": [
    "def find_naped(row):\n",
    "  if row[\"param_transmission\"] is not None:\n",
    "    return row[\"param_transmission\"]\n",
    "  elif row['param_napęd'] is not None:\n",
    "    return row['param_napęd']\n",
    "  else:\n",
    "    return -1\n",
    "\n",
    "all_data[\"my_naped\"] = all_data.apply(find_naped, axis=1)\n",
    "\n",
    "del all_data[\"param_transmission\"]\n",
    "del all_data[\"param_napęd\"]\n",
    "\n",
    "# podobnie jak ze skrzynią, daje oddzielne zmienne do wszystkich napędów 4x4 i do napędu na tył\n",
    "all_data[\"my_naped_4x4\"] = all_data[\"my_naped\"].map(lambda x: \"4x4\" in str(x))\n",
    "all_data[\"my_naped_tyl\"] = all_data[\"my_naped\"].map(lambda x: \"tylne\" in str(x))\n",
    "all_data[\"my_naped\"] = all_data[\"my_naped\"].factorize()[0]"
   ]
  },
  {
   "cell_type": "code",
   "execution_count": 37,
   "metadata": {
    "id": "LfoYidPd3y1G"
   },
   "outputs": [],
   "source": [
    "def find_drzwi(row):\n",
    "  if row[\"param_door-count\"] is not None:\n",
    "    drzwi = int( row[\"param_door-count\"] )\n",
    "  elif row['param_liczba-drzwi'] is not None:\n",
    "    drzwi = int( row['param_liczba-drzwi'] )\n",
    "  else:\n",
    "    drzwi = -1\n",
    "\n",
    "  if drzwi > 10: # 10 drzwi to bez sensu jeśli mamy same osobówki\n",
    "    drzwi = 4\n",
    "  return drzwi\n",
    "\n",
    "all_data[\"my_drzwi\"] = all_data.apply(find_drzwi, axis=1)\n",
    "\n",
    "del all_data[\"param_door-count\"]\n",
    "del all_data[\"param_liczba-drzwi\"]"
   ]
  },
  {
   "cell_type": "code",
   "execution_count": 38,
   "metadata": {
    "id": "yX0waj6c3RAB"
   },
   "outputs": [],
   "source": [
    "def find_miejsca(row):\n",
    "  if row[\"param_liczba-miejsc\"] is not None:\n",
    "    miejsca = int( row[\"param_liczba-miejsc\"] )\n",
    "  elif row['param_nr-of-seats'] is not None:\n",
    "    miejsca = int( row['param_nr-of-seats'] )\n",
    "  else:\n",
    "    miejsca = -1\n",
    "\n",
    "  return miejsca\n",
    "\n",
    "all_data[\"my_miejsca\"] = all_data.apply(find_miejsca, axis=1)\n",
    "\n",
    "del all_data[\"param_liczba-miejsc\"]\n",
    "del all_data[\"param_nr-of-seats\"]"
   ]
  },
  {
   "cell_type": "code",
   "execution_count": 39,
   "metadata": {
    "id": "1fQ3wRPWWVQr"
   },
   "outputs": [],
   "source": [
    "def find_metalik(row):\n",
    "  if (row[\"param_metallic\"] is not None) or (row[\"param_metalik\"] is not None):\n",
    "    return True\n",
    "  else:\n",
    "    return False\n",
    "\n",
    "all_data[\"my_metalik\"] = all_data.apply(find_metalik, axis=1)\n",
    "del all_data[\"param_metallic\"]\n",
    "del all_data[\"param_metalik\"]"
   ]
  },
  {
   "cell_type": "code",
   "execution_count": 40,
   "metadata": {
    "id": "t3JprCHfxprZ"
   },
   "outputs": [],
   "source": [
    "def find_typ(row):\n",
    "  if row[\"param_typ\"] is not None:\n",
    "    return row[\"param_typ\"]\n",
    "  elif row['param_body-type'] is not None:\n",
    "    return row['param_body-type']\n",
    "  else:\n",
    "    return -1\n",
    "\n",
    "all_data[\"my_typ\"] = all_data.apply(find_typ, axis=1)\n",
    "\n",
    "del all_data[\"param_typ\"]\n",
    "del all_data[\"param_body-type\"]\n",
    "\n",
    "all_data[\"my_typ\"] = all_data[\"my_typ\"].factorize()[0]"
   ]
  },
  {
   "cell_type": "code",
   "execution_count": 41,
   "metadata": {
    "id": "gZRL_YlO_HuQ"
   },
   "outputs": [],
   "source": [
    "def find_rejestracja(row):\n",
    "  if row[\"param_pierwsza-rejestracja\"] is not None:\n",
    "    return row[\"param_pierwsza-rejestracja\"]\n",
    "  elif row[\"param_first-registration\"] is not None:\n",
    "    return row[\"param_first-registration\"]\n",
    "  else:\n",
    "    return -1\n",
    "\n",
    "all_data[\"my_rejestracja\"] = all_data.apply(find_rejestracja, axis=1)\n",
    "\n",
    "del all_data[\"param_pierwsza-rejestracja\"]\n",
    "del all_data[\"param_first-registration\"]"
   ]
  },
  {
   "cell_type": "code",
   "execution_count": 42,
   "metadata": {
    "id": "293eitDT_mAg"
   },
   "outputs": [],
   "source": [
    "def get_rejestracja_year(row):  \n",
    "  if row != -1:\n",
    "    return int(row[-4:]) # jeśli nie -1 to zwracamy 4 ostatnie czyli rok\n",
    "  return -1\n",
    "\n",
    "all_data[\"my_registration_year\"] = all_data[\"my_rejestracja\"].map(get_rejestracja_year)\n",
    "\n",
    "def get_rejestracja_difference(row): # czas od rejestracji, czasami wychodzą głupoty \n",
    "  if row[\"my_registration_year\"] == -1:\n",
    "     return -1\n",
    "  elif row[\"my_registration_year\"] != -1:\n",
    "    diff = row[\"my_rok\"] - row[\"my_registration_year\"]\n",
    "    if diff > 100 or diff < -1:\n",
    "      return -1\n",
    "    else:\n",
    "      return diff\n",
    "  return -1\n",
    "\n",
    "all_data[\"my_rej_diff\"] = all_data.apply(get_rejestracja_difference, axis=1)\n",
    "del all_data[\"my_rejestracja\"]"
   ]
  },
  {
   "cell_type": "code",
   "execution_count": 43,
   "metadata": {
    "id": "0OTE0Ijw-08V"
   },
   "outputs": [],
   "source": [
    "all_data[\"my_zabytek\"] = all_data[\"param_zarejestrowany-jako-zabytek\"].map(lambda x: True if x == \"Tak\" else False)\n",
    "del all_data[\"param_zarejestrowany-jako-zabytek\"]"
   ]
  },
  {
   "cell_type": "code",
   "execution_count": 44,
   "metadata": {
    "id": "hOYCSzYOuwbj"
   },
   "outputs": [],
   "source": [
    "import re\n",
    "\n",
    "# z wersji auta można wyciągnąć dwie daty - początku i końca produkcji modelu\n",
    "# np \"IV 2004-2010\", wyciągam obie\n",
    "def find_first_date(row):\n",
    "  if row is not None:\n",
    "    first_year = re.findall(\"([0-9]{4})-\", row)\n",
    "    if len(first_year) > 0:\n",
    "      return int(first_year[0])\n",
    "  return -1\n",
    "\n",
    "def find_last_date(row):\n",
    "  if row is not None:\n",
    "    first_year = re.findall(\"-([0-9]{4})\", row)\n",
    "    if len(first_year) > 0:\n",
    "      return int(first_year[0])\n",
    "    return 2018\n",
    "\n",
    "all_data[\"my_first\"] = all_data[\"param_wersja\"].map(find_first_date)\n",
    "all_data[\"my_last\"] = all_data[\"param_wersja\"].map(find_last_date)\n",
    "\n",
    "# i jeszcze odejmuje od daty produkcji pierwszą datę modelu\n",
    "def find_difference_first_year(row):\n",
    "  if row[\"my_rok\"] == -1:\n",
    "    return -10\n",
    "  elif row[\"my_first\"] != -1:\n",
    "    return row[\"my_rok\"] - row[\"my_first\"]\n",
    "\n",
    "all_data[\"my_model_age\"] = all_data.apply(find_difference_first_year, axis=1)\n"
   ]
  },
  {
   "cell_type": "code",
   "execution_count": 45,
   "metadata": {
    "id": "tMBKxsplCRJb"
   },
   "outputs": [],
   "source": [
    "def find_wersja(row):\n",
    "  if row[\"param_wersja\"] is not None:\n",
    "    return row[\"param_wersja\"]\n",
    "  elif row['param_version'] is not None:\n",
    "    return row['param_version']\n",
    "  else:\n",
    "    return -1\n",
    "\n",
    "all_data[\"my_wersja\"] = all_data.apply(find_wersja, axis=1)\n",
    "all_data[\"my_wersja\"] = all_data[\"my_wersja\"].factorize()[0]\n",
    "all_data[\"my_wersja_2\"] = all_data[\"param_wersja\"].factorize()[0]\n",
    "\n",
    "del all_data[\"param_wersja\"]\n",
    "del all_data[\"param_version\"]"
   ]
  },
  {
   "cell_type": "code",
   "execution_count": 46,
   "metadata": {
    "id": "JAT8rg_5TfF8"
   },
   "outputs": [],
   "source": [
    "def find_leasing(row):\n",
    "  if row[\"param_leasing\"] is not None:\n",
    "    return row[\"param_leasing\"]\n",
    "  elif row['param_leasing-concession'] is not None:\n",
    "    return row['param_leasing-concession']\n",
    "  else:\n",
    "    return -1\n",
    "\n",
    "all_data[\"my_leasing\"] = all_data.apply(find_leasing, axis=1)\n",
    "all_data[\"my_leasing\"] = all_data[\"my_leasing\"].map(lambda x: True if x == \"Tak\" else False)\n",
    "\n",
    "\n",
    "del all_data[\"param_leasing\"]\n",
    "del all_data[\"param_leasing-concession\"]"
   ]
  },
  {
   "cell_type": "code",
   "execution_count": 47,
   "metadata": {
    "id": "REuHUWKbU5rd"
   },
   "outputs": [],
   "source": [
    "def find_emisja(row):\n",
    "  if row[\"param_emisja-co2\"] is not None:\n",
    "    return row[\"param_emisja-co2\"]\n",
    "  elif row['param_co2-emissions'] is not None:\n",
    "    return row['param_co2-emissions']\n",
    "  else:\n",
    "    return -1\n",
    "\n",
    "all_data[\"my_emisja\"] = all_data.apply(find_emisja, axis=1)\n",
    "\n",
    "del all_data[\"param_emisja-co2\"]\n",
    "del all_data[\"param_co2-emissions\"]\n",
    "\n",
    "def emisja_to_int(row):\n",
    "  try:\n",
    "    emisja = int (row.replace(\"g/km\",\"\").replace(\" \", \"\") )\n",
    "  except:\n",
    "    emisja = -1\n",
    "\n",
    "  if emisja > 1000:\n",
    "    emisja = -1\n",
    "  \n",
    "  return emisja\n",
    "\n",
    "all_data[\"my_emisja\"] = all_data[\"my_emisja\"].map(emisja_to_int)"
   ]
  },
  {
   "cell_type": "code",
   "execution_count": 48,
   "metadata": {
    "id": "LehoniHuI1vj"
   },
   "outputs": [],
   "source": [
    "def find_perlowy(row):\n",
    "  if (row[\"param_perłowy\"] == \"Tak\") or (row[\"param_pearl\"] == \"Tak\"):\n",
    "    return True\n",
    "  return False\n",
    "\n",
    "all_data[\"my_perlowy\"] = all_data.apply(find_perlowy, axis=1)\n",
    "\n",
    "del all_data[\"param_perłowy\"]\n",
    "del all_data[\"param_pearl\"]"
   ]
  },
  {
   "cell_type": "code",
   "execution_count": 49,
   "metadata": {
    "id": "kCXm3TmOKW7S"
   },
   "outputs": [],
   "source": [
    "def find_owner(row):\n",
    "  if (row[\"param_pierwszy-właściciel\"] == \"Tak\") or (row[\"param_original-owner\"] == \"Tak\"):\n",
    "    return True\n",
    "  return False\n",
    "\n",
    "all_data[\"my_owner\"] = all_data.apply(find_owner, axis=1)\n",
    "\n",
    "del all_data[\"param_pierwszy-właściciel\"]\n",
    "del all_data[\"param_original-owner\"]"
   ]
  },
  {
   "cell_type": "code",
   "execution_count": 50,
   "metadata": {
    "id": "OHdsZggNNKQz"
   },
   "outputs": [],
   "source": [
    "def find_akryl(row):\n",
    "  if (row[\"param_akryl-(niemetalizowany)\"] is not None) or (row[\"param_acrylic\"] == \"Tak\"):\n",
    "    return True\n",
    "  return False\n",
    "\n",
    "all_data[\"my_akryl\"] = all_data.apply(find_akryl, axis=1)\n",
    "\n",
    "del all_data[\"param_akryl-(niemetalizowany)\"]\n",
    "del all_data[\"param_acrylic\"]"
   ]
  },
  {
   "cell_type": "code",
   "execution_count": 51,
   "metadata": {
    "id": "v4HHRo-fOeJ5"
   },
   "outputs": [],
   "source": [
    "def find_filtr(row):\n",
    "  if (row[\"param_filtr-cząstek-stałych\"] == \"Tak\") or (row[\"param_particle-filter\"] == \"Tak\"):\n",
    "    return True\n",
    "  return False\n",
    "\n",
    "all_data[\"my_filtr\"] = all_data.apply(find_filtr, axis=1)\n",
    "\n",
    "del all_data[\"param_filtr-cząstek-stałych\"]\n",
    "del all_data[\"param_particle-filter\"]"
   ]
  },
  {
   "cell_type": "code",
   "execution_count": 52,
   "metadata": {
    "id": "rlP9e0ewPZ3E"
   },
   "outputs": [],
   "source": [
    "all_data[\"my_tuning\"] = all_data[\"param_tuning\"].map(lambda x: True if x == \"Tak\" else False)\n",
    "del all_data[\"param_tuning\"]"
   ]
  },
  {
   "cell_type": "code",
   "execution_count": 53,
   "metadata": {
    "id": "VMSAVyUwQlqw"
   },
   "outputs": [],
   "source": [
    "def find_opcja(row):\n",
    "  if (row[\"param_financing-option\"] == \"Tak\") or (row[\"param_możliwość-finansowania\"] == \"Tak\"):\n",
    "    return True\n",
    "  return False\n",
    "\n",
    "all_data[\"my_opcja\"] = all_data.apply(find_opcja, axis=1)\n",
    "\n",
    "del all_data[\"param_financing-option\"]\n",
    "del all_data[\"param_możliwość-finansowania\"]"
   ]
  },
  {
   "cell_type": "code",
   "execution_count": 54,
   "metadata": {
    "id": "JU8Kk0tFSUxl"
   },
   "outputs": [],
   "source": [
    "all_data[\"my_homo\"] = all_data[\"param_homologacja-ciężarowa\"].map(lambda x: True if x == \"Tak\" else False)\n",
    "del all_data[\"param_homologacja-ciężarowa\"]"
   ]
  },
  {
   "cell_type": "code",
   "execution_count": 55,
   "metadata": {
    "id": "koz4KpQQSt0Y"
   },
   "outputs": [],
   "source": [
    "all_data[\"my_nowe\"] = all_data[\"param_stan\"].map(lambda x: True if x == \"Nowe\" else False)\n",
    "del all_data[\"param_stan\"]"
   ]
  },
  {
   "cell_type": "code",
   "execution_count": 56,
   "metadata": {
    "id": "5GY_kXddTLu8"
   },
   "outputs": [],
   "source": [
    "def find_aso(row):\n",
    "  if (row[\"param_serwisowany-w-aso\"] == \"Tak\") or (row[\"param_service-record\"] == \"Tak\"):\n",
    "    return True\n",
    "  return False\n",
    "\n",
    "all_data[\"my_aso\"] = all_data.apply(find_aso, axis=1)\n",
    "\n",
    "del all_data[\"param_serwisowany-w-aso\"]\n",
    "del all_data[\"param_service-record\"]"
   ]
  },
  {
   "cell_type": "code",
   "execution_count": 57,
   "metadata": {
    "id": "Toi1Pykd4LQO"
   },
   "outputs": [],
   "source": [
    "def wykup_to_int(row):\n",
    "  try:\n",
    "    wykup = float (row.replace(\"PLN\",\"\").replace(\" \", \"\").replace(\",\", \".\") )\n",
    "  except:\n",
    "    wykup = -1\n",
    "  \n",
    "  return int(wykup)\n",
    "\n",
    "all_data[\"my_wykup\"] = all_data['param_wartość-wykupu'].map(wykup_to_int)\n",
    "del all_data['param_wartość-wykupu']"
   ]
  },
  {
   "cell_type": "code",
   "execution_count": 58,
   "metadata": {
    "id": "E26dajPb6zL6"
   },
   "outputs": [],
   "source": [
    "def rata_to_int(row):\n",
    "  try:\n",
    "    wykup = float (row.replace(\"PLN\",\"\").replace(\" \", \"\").replace(\",\", \".\") )\n",
    "  except:\n",
    "    wykup = -1\n",
    "  \n",
    "  return int(wykup)\n",
    "\n",
    "all_data[\"my_rata\"] = all_data['param_miesięczna-rata'].map(rata_to_int)\n",
    "del all_data['param_miesięczna-rata']"
   ]
  },
  {
   "cell_type": "code",
   "execution_count": 59,
   "metadata": {
    "id": "vot8sjEe53KT"
   },
   "outputs": [],
   "source": [
    "all_data[\"my_seller\"] = all_data[\"seller_name\"].factorize()[0]\n",
    "del all_data[\"seller_name\"]"
   ]
  },
  {
   "cell_type": "code",
   "execution_count": 60,
   "metadata": {
    "id": "HOLyB-djNgd4"
   },
   "outputs": [],
   "source": [
    "all_data[\"my_matowy\"] = all_data['param_matowy'].map(lambda x: True if x is not None else False)\n",
    "del all_data['param_matowy']"
   ]
  },
  {
   "cell_type": "code",
   "execution_count": 61,
   "metadata": {
    "id": "slIcyFEX87K2"
   },
   "outputs": [],
   "source": [
    "all_data[\"moje_poz_raty\"] = all_data[\"param_liczba-pozostałych-rat\"].map(lambda x: int(float(x.replace(\" \",\"\").replace(\",\",\".\"))) if x is not None else -1)\n",
    "del all_data[\"param_liczba-pozostałych-rat\"]"
   ]
  },
  {
   "cell_type": "markdown",
   "metadata": {
    "id": "VMRZ5fmj2T_t"
   },
   "source": [
    "zapis"
   ]
  },
  {
   "cell_type": "code",
   "execution_count": 62,
   "metadata": {
    "colab": {
     "base_uri": "https://localhost:8080/"
    },
    "id": "95sqfim3u5EA",
    "outputId": "154dfc76-bb02-4255-f714-dfd5b69a7dd0"
   },
   "outputs": [
    {
     "name": "stderr",
     "output_type": "stream",
     "text": [
      "/home/conda/anaconda3/lib/python3.7/site-packages/pandas/core/generic.py:2505: PerformanceWarning: \n",
      "your performance may suffer as PyTables will pickle object types that it cannot\n",
      "map directly to c-types [inferred_type->mixed,key->block3_values] [items->Index(['created_at', 'price_currency', 'price_details', 'param_engine-code',\n",
      "       'param_vin', 'param_kod-silnika', 'param_opłata-początkowa',\n",
      "       'param_monthly-payment-value'],\n",
      "      dtype='object')]\n",
      "\n",
      "  encoding=encoding,\n"
     ]
    }
   ],
   "source": [
    "all_data.to_hdf(\"./../output/final_feats.h5\", \"abc\")"
   ]
  }
 ],
 "metadata": {
  "colab": {
   "collapsed_sections": [],
   "name": "final FE",
   "provenance": []
  },
  "kernelspec": {
   "display_name": "Python 3",
   "language": "python",
   "name": "python3"
  },
  "language_info": {
   "codemirror_mode": {
    "name": "ipython",
    "version": 3
   },
   "file_extension": ".py",
   "mimetype": "text/x-python",
   "name": "python",
   "nbconvert_exporter": "python",
   "pygments_lexer": "ipython3",
   "version": "3.7.6"
  }
 },
 "nbformat": 4,
 "nbformat_minor": 1
}
